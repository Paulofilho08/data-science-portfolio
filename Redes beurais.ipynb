{
  "nbformat": 4,
  "nbformat_minor": 0,
  "metadata": {
    "colab": {
      "provenance": [],
      "authorship_tag": "ABX9TyPuLi6cqVxfkVeoWs7vEQpC",
      "include_colab_link": true
    },
    "kernelspec": {
      "name": "python3",
      "display_name": "Python 3"
    },
    "language_info": {
      "name": "python"
    }
  },
  "cells": [
    {
      "cell_type": "markdown",
      "metadata": {
        "id": "view-in-github",
        "colab_type": "text"
      },
      "source": [
        "<a href=\"https://colab.research.google.com/github/Paulofilho08/data-science-portfolio/blob/main/Redes%20beurais.ipynb\" target=\"_parent\"><img src=\"https://colab.research.google.com/assets/colab-badge.svg\" alt=\"Open In Colab\"/></a>"
      ]
    },
    {
      "cell_type": "code",
      "execution_count": 12,
      "metadata": {
        "id": "3Ij_wtNSz-HO",
        "colab": {
          "base_uri": "https://localhost:8080/"
        },
        "outputId": "cf8212e1-156d-4727-ed67-0559f03e1bde"
      },
      "outputs": [
        {
          "output_type": "stream",
          "name": "stdout",
          "text": [
            "torch.float32\n",
            "torch.float32\n",
            "torch.float64\n",
            "torch.int64\n"
          ]
        }
      ],
      "source": [
        "import torch\n",
        "import numpy as np\n",
        "lista = [[1,2,3],\n",
        "        [4,5,6]]\n",
        "tens = torch.Tensor(lista)\n",
        "print(tens.dtype)\n",
        "\n",
        "tens = torch.FloatTensor(lista)\n",
        "print(tens.dtype)\n",
        "\n",
        "tens = torch.DoubleTensor(lista)\n",
        "print(tens.dtype)\n",
        "\n",
        "tens = torch.LongTensor(lista)\n",
        "print(tens.dtype)"
      ]
    },
    {
      "cell_type": "markdown",
      "source": [
        "Outras formas deinstaciar tensores"
      ],
      "metadata": {
        "id": "2YUuJKwH8Uy9"
      }
    },
    {
      "cell_type": "code",
      "source": [
        "arr = np.random.rand(3,4)\n",
        "tns = torch.from_numpy(arr)\n",
        "print(arr)\n",
        "print(arr.dtype)\n",
        "\n",
        "print(tns)\n",
        "print(tns.dtype)"
      ],
      "metadata": {
        "colab": {
          "base_uri": "https://localhost:8080/"
        },
        "id": "5M5UW9Qj8X9F",
        "outputId": "2e48699f-3345-4252-bf8c-ffbbc965374e"
      },
      "execution_count": 18,
      "outputs": [
        {
          "output_type": "stream",
          "name": "stdout",
          "text": [
            "[[0.51704194 0.3452049  0.24932866 0.27039091]\n",
            " [0.04733541 0.49187105 0.80576099 0.90623328]\n",
            " [0.4440421  0.64819035 0.52019525 0.12011431]]\n",
            "float64\n",
            "tensor([[0.5170, 0.3452, 0.2493, 0.2704],\n",
            "        [0.0473, 0.4919, 0.8058, 0.9062],\n",
            "        [0.4440, 0.6482, 0.5202, 0.1201]], dtype=torch.float64)\n",
            "torch.float64\n"
          ]
        }
      ]
    },
    {
      "cell_type": "markdown",
      "source": [
        "GPU Cast"
      ],
      "metadata": {
        "id": "rPBcZb-9BX8m"
      }
    },
    {
      "cell_type": "code",
      "source": [
        "if torch.cuda.is_available():\n",
        "    device = torch.device('cuda')\n",
        "else:\n",
        "    device = torch.device('cpu')\n",
        "print(device)"
      ],
      "metadata": {
        "id": "X5a7_aE00Gai",
        "colab": {
          "base_uri": "https://localhost:8080/"
        },
        "outputId": "a4d5c781-1d50-4209-826a-c24980bed0a8"
      },
      "execution_count": 19,
      "outputs": [
        {
          "output_type": "stream",
          "name": "stdout",
          "text": [
            "cpu\n"
          ]
        }
      ]
    },
    {
      "cell_type": "code",
      "source": [],
      "metadata": {
        "id": "GFKZC5IF0Gdt"
      },
      "execution_count": null,
      "outputs": []
    }
  ]
}