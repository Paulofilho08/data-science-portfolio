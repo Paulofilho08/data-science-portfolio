{
  "nbformat": 4,
  "nbformat_minor": 0,
  "metadata": {
    "colab": {
      "provenance": [],
      "authorship_tag": "ABX9TyMiGtcqD6QCvWoyoTe/9lGy",
      "include_colab_link": true
    },
    "kernelspec": {
      "name": "python3",
      "display_name": "Python 3"
    },
    "language_info": {
      "name": "python"
    }
  },
  "cells": [
    {
      "cell_type": "markdown",
      "metadata": {
        "id": "view-in-github",
        "colab_type": "text"
      },
      "source": [
        "<a href=\"https://colab.research.google.com/github/Paulofilho08/data-science-portfolio/blob/main/Redes%20beurais.ipynb\" target=\"_parent\"><img src=\"https://colab.research.google.com/assets/colab-badge.svg\" alt=\"Open In Colab\"/></a>"
      ]
    },
    {
      "cell_type": "code",
      "execution_count": 1,
      "metadata": {
        "id": "3Ij_wtNSz-HO",
        "colab": {
          "base_uri": "https://localhost:8080/"
        },
        "outputId": "1356d0e9-a596-4f59-f0c2-d70004644f19"
      },
      "outputs": [
        {
          "output_type": "stream",
          "name": "stdout",
          "text": [
            "torch.float32\n",
            "torch.float32\n",
            "torch.float64\n",
            "torch.int64\n"
          ]
        }
      ],
      "source": [
        "import torch\n",
        "import numpy as np\n",
        "lista = [[1,2,3],\n",
        "        [4,5,6]]\n",
        "tens = torch.Tensor(lista)\n",
        "print(tens.dtype)\n",
        "\n",
        "tens = torch.FloatTensor(lista)\n",
        "print(tens.dtype)\n",
        "\n",
        "tens = torch.DoubleTensor(lista)\n",
        "print(tens.dtype)\n",
        "\n",
        "tens = torch.LongTensor(lista)\n",
        "print(tens.dtype)"
      ]
    },
    {
      "cell_type": "markdown",
      "source": [
        "Outras formas deinstaciar tensores"
      ],
      "metadata": {
        "id": "2YUuJKwH8Uy9"
      }
    },
    {
      "cell_type": "code",
      "source": [
        "arr = np.random.rand(3,4)\n",
        "tns = torch.from_numpy(arr)\n",
        "print(arr)\n",
        "print(arr.dtype)\n",
        "\n",
        "print(tns)\n",
        "print(tns.dtype)"
      ],
      "metadata": {
        "colab": {
          "base_uri": "https://localhost:8080/"
        },
        "id": "5M5UW9Qj8X9F",
        "outputId": "7bb5ea49-ff9e-473c-e23a-036300a0b7f9"
      },
      "execution_count": 2,
      "outputs": [
        {
          "output_type": "stream",
          "name": "stdout",
          "text": [
            "[[0.97145676 0.38055867 0.73245095 0.95332029]\n",
            " [0.55016838 0.91381035 0.51278643 0.21758946]\n",
            " [0.5273396  0.46782844 0.01682276 0.63173033]]\n",
            "float64\n",
            "tensor([[0.9715, 0.3806, 0.7325, 0.9533],\n",
            "        [0.5502, 0.9138, 0.5128, 0.2176],\n",
            "        [0.5273, 0.4678, 0.0168, 0.6317]], dtype=torch.float64)\n",
            "torch.float64\n"
          ]
        }
      ]
    },
    {
      "cell_type": "markdown",
      "source": [
        "GPU Cast"
      ],
      "metadata": {
        "id": "rPBcZb-9BX8m"
      }
    },
    {
      "cell_type": "code",
      "source": [
        "if torch.cuda.is_available():\n",
        "    device = torch.device('cuda')\n",
        "else:\n",
        "    device = torch.device('cpu')\n",
        "print(device)"
      ],
      "metadata": {
        "id": "X5a7_aE00Gai",
        "colab": {
          "base_uri": "https://localhost:8080/"
        },
        "outputId": "877876ee-cc08-4934-91c7-cea6b855bcdc"
      },
      "execution_count": 3,
      "outputs": [
        {
          "output_type": "stream",
          "name": "stdout",
          "text": [
            "cpu\n"
          ]
        }
      ]
    },
    {
      "cell_type": "markdown",
      "source": [
        "Classificação linear\n",
        "-----------------------------\n",
        "Equação da reta\n"
      ],
      "metadata": {
        "id": "FKf2iK6FXPYU"
      }
    },
    {
      "cell_type": "code",
      "source": [
        "import matplotlib.pyplot as plt\n",
        "a = -1\n",
        "b = 4\n",
        "c = 0.4\n",
        "\n",
        "def plotline(a, b, c):\n",
        "  x = np.linspace(-2, 4, 50)\n",
        "  y = (-a*x - c)/b\n",
        "\n",
        "  plt.axvline(0, -1, 1, color='k', linewidth=1)\n",
        "  plt.axhline(0, -2, 4, color='k', linewidth=1)\n",
        "  plt.plot(x, y)\n",
        "  plt.grid(True)\n",
        "plotline( a, b, c)"
      ],
      "metadata": {
        "id": "GFKZC5IF0Gdt",
        "outputId": "25a49d15-40b5-4257-b5f4-e87a53673b52",
        "colab": {
          "base_uri": "https://localhost:8080/",
          "height": 430
        }
      },
      "execution_count": 15,
      "outputs": [
        {
          "output_type": "display_data",
          "data": {
            "text/plain": [
              "<Figure size 640x480 with 1 Axes>"
            ],
            "image/png": "[encoded data removed]"
          },
          "metadata": {}
        }
      ]
    },
    {
      "cell_type": "markdown",
      "source": [
        "Solucinando a equação da reta para diferentes pontos"
      ],
      "metadata": {
        "id": "Mnm3IGO9Zzbp"
      }
    },
    {
      "cell_type": "code",
      "source": [
        "p1 = (2, 0.4)\n",
        "p2 = (1, 0.6)\n",
        "p3 = (3, 0.2)\n",
        "ret1 = a*p1[0] + b*p1[1] + c\n",
        "ret2 = a*p2[0] + b*p2[1] + c\n",
        "ret3 = a*p3[0] + b*p3[1] + c\n",
        "\n",
        "plotline(a, b, c)\n",
        "plt.plot(p1[0], p1[1], color='b', marker='o')\n",
        "plt.plot(p2[0], p2[1], color='r', marker='o')\n",
        "plt.plot(p3[0], p3[1], color='g', marker='o')\n",
        "\n"
      ],
      "metadata": {
        "id": "sdl0knnuZX5o",
        "outputId": "99daf280-79e5-4b4e-c378-8e566f4430f4",
        "colab": {
          "base_uri": "https://localhost:8080/",
          "height": 447
        }
      },
      "execution_count": 25,
      "outputs": [
        {
          "output_type": "execute_result",
          "data": {
            "text/plain": [
              "[<matplotlib.lines.Line2D at 0x7c40fdcdf860>]"
            ]
          },
          "metadata": {},
          "execution_count": 25
        },
        {
          "output_type": "display_data",
          "data": {
            "text/plain": [
              "<Figure size 640x480 with 1 Axes>"
            ],
            "image/png": "[encoded data removed]"
          },
          "metadata": {}
        }
      ]
    },
    {
      "cell_type": "code",
      "source": [
        "ret1 = a*p1[0] + b*p1[1] + c\n",
        "print(\"%.2f\" % ret1)\n",
        "\n",
        "ret2 = a*p2[0] + b*p2[1] + c\n",
        "print(\"%.2f\" % ret2)\n",
        "\n",
        "ret3 = a*p3[0] + b*p3[1] + c\n",
        "print(\"%.2f\" % ret3)"
      ],
      "metadata": {
        "id": "JJ1NYXfKZYDA",
        "outputId": "62502ede-6bb9-494f-8ef6-205ff477dc2b",
        "colab": {
          "base_uri": "https://localhost:8080/"
        }
      },
      "execution_count": 26,
      "outputs": [
        {
          "output_type": "stream",
          "name": "stdout",
          "text": [
            "0.00\n",
            "1.80\n",
            "-1.80\n"
          ]
        }
      ]
    },
    {
      "cell_type": "code",
      "source": [],
      "metadata": {
        "id": "mTCL3-U6ZYF9"
      },
      "execution_count": null,
      "outputs": []
    }
  ]
}